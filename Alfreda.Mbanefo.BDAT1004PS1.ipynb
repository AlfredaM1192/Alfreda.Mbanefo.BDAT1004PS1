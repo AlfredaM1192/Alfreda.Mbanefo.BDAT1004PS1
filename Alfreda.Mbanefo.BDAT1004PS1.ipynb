{
 "cells": [
  {
   "cell_type": "markdown",
   "id": "2ead180c",
   "metadata": {},
   "source": [
    "# Question 1\n",
    "\n",
    "What data type is each of the following (evaluate where necessary)?\n"
   ]
  },
  {
   "cell_type": "code",
   "execution_count": 21,
   "id": "dc8a81a5",
   "metadata": {},
   "outputs": [
    {
     "name": "stdout",
     "output_type": "stream",
     "text": [
      "<class 'int'>\n",
      "<class 'float'>\n",
      "<class 'str'>\n",
      "<class 'int'>\n",
      "<class 'str'>\n",
      "<class 'str'>\n",
      "<class 'float'>\n",
      "<class 'int'>\n",
      "<class 'set'>\n",
      "<class 'bool'>\n",
      "<class 'float'>\n"
     ]
    }
   ],
   "source": [
    "print(type(5))     # 5 is an integer data type\n",
    "print(type(5.0))   # 5.0 is a float data type\n",
    "print(type('5'))   # '5' is a string data type\n",
    "print(type(5*2))   # 5*2 is an integer data type\n",
    "print(type('5'*2)) # '5'*2 is a string data type\n",
    "print(type('5' + '2')) # '5' + '2' is a string\n",
    "print(type(5/2))  # 5/2 is a float data type\n",
    "print(type(5%2))  # 5%2 is an integer data type\n",
    "print(type({5, 2, 1})) # {5,2,1}is a set\n",
    "print(type(5==3))  # 5 == 3 is a boolear data type\n",
    "print(type(3.14)) # Pi (the number) is a float data type"
   ]
  },
  {
   "cell_type": "markdown",
   "id": "2f55b927",
   "metadata": {},
   "source": [
    "# Question 2\n",
    "\n",
    "Write (and evaluate) python expressions that answer these questions:\n",
    "a. How many letters are there in 'Supercalifragilisticexpialidocious'?\n",
    "b. Does 'Supercalifragilisticexpialidocious' contain 'ice' as a substring?\n",
    "Which of the following words is the longest:\n",
    "Supercalifragilisticexpialidocious, Honorificabilitudinitatibus, or\n",
    "Bababadalgharaghtakamminarronnkonn?\n",
    "d. Which composer comes first in the dictionary: 'Berlioz', 'Borodin', 'Brian',\n",
    "'Bartok', 'Bellini', 'Buxtehude', 'Bernstein'. Which one comes last?\n"
   ]
  },
  {
   "cell_type": "code",
   "execution_count": 22,
   "id": "bf4ba285",
   "metadata": {},
   "outputs": [
    {
     "name": "stdout",
     "output_type": "stream",
     "text": [
      "34\n"
     ]
    }
   ],
   "source": [
    "word = 'Supercalifragilisticexpialidocious'\n",
    "print(len(word))"
   ]
  },
  {
   "cell_type": "code",
   "execution_count": 24,
   "id": "ab33b1cd",
   "metadata": {},
   "outputs": [
    {
     "name": "stdout",
     "output_type": "stream",
     "text": [
      "True\n"
     ]
    }
   ],
   "source": [
    "word = 'Supercalifragilisticexpialidocious'\n",
    "print('ice' in word)"
   ]
  },
  {
   "cell_type": "code",
   "execution_count": 25,
   "id": "059b376d",
   "metadata": {},
   "outputs": [
    {
     "name": "stdout",
     "output_type": "stream",
     "text": [
      "Supercalifragilisticexpialidocious\n"
     ]
    }
   ],
   "source": [
    "words = ['Supercalifragilisticexpialidocious', 'Honorificabilitudinitatibus', 'Bababadalgharaghtakamminarronnkonn']\n",
    "print(max(words))"
   ]
  },
  {
   "cell_type": "code",
   "execution_count": 37,
   "id": "25d5d983",
   "metadata": {},
   "outputs": [
    {
     "name": "stdout",
     "output_type": "stream",
     "text": [
      "['Bartok', 'Bellini', 'Berlioz', 'Bernstein', 'Borodin', 'Brian', 'Buxtehude']\n",
      "Bartok\n",
      "Buxtehude\n"
     ]
    }
   ],
   "source": [
    "Dictionary = ['Berlioz', 'Borodin', 'Brian', 'Bartok', 'Bellini', 'Buxtehude', 'Bernstein']\n",
    "Dictionary.sort() #sort the dictionary in ascending order\n",
    "print(Dictionary)\n",
    "print(Dictionary[0]) #first index number \n",
    "print(Dictionary[-1])  #last index number"
   ]
  },
  {
   "cell_type": "markdown",
   "id": "6f8da0b3",
   "metadata": {},
   "source": [
    "# Question 3\n",
    "\n",
    "Implement function triangleArea(a,b,c) that takes as input the lengths of the 3\n",
    "sides of a triangle and returns the area of the triangle. By Heron's formula, the area\n",
    "of a triangle with side lengths a, b, and c is\n",
    "s(s - a)(s -b)(s -c)\n",
    ", where\n",
    "s = (a+b+c)/2.\n",
    ">>> triangleArea(2,2,2)\n",
    "1.7320508075688772\n"
   ]
  },
  {
   "cell_type": "code",
   "execution_count": 90,
   "id": "c6b1eb64",
   "metadata": {},
   "outputs": [
    {
     "name": "stdout",
     "output_type": "stream",
     "text": [
      "trianglearea 4,5,6 is 9.921567416492215:\n"
     ]
    }
   ],
   "source": [
    "import math \n",
    "\n",
    "def trianglearea(a, b, c):\n",
    "    \n",
    "    x = a + b + c\n",
    "    s = x / 2\n",
    "    area = math.sqrt(s*(s-a)*(s-b)*(s-c))\n",
    "    print(\"trianglearea {},{},{} is {}:\".format(a, b, c, area))\n",
    "\n",
    "trianglearea(4, 5, 6)\n",
    "   \n"
   ]
  },
  {
   "cell_type": "markdown",
   "id": "19dfb7b1",
   "metadata": {},
   "source": [
    "# Question 4\n",
    "\n",
    "Write a program in python to separate odd and even integers in separate arrays. Go\n",
    "to the editor\n",
    "Test Data :\n",
    "Input the number of elements to be stored in the array :5\n",
    "Input 5 elements in the array :\n",
    "element - 0 : 25\n",
    "element - 1 : 47\n",
    "element - 2 : 42\n",
    "element - 3 : 56\n",
    "element - 4 : 32\n",
    "Expected Output:\n",
    "The Even elements are:\n",
    "42 56 32\n",
    "The Odd elements are :\n",
    "25 47"
   ]
  },
  {
   "cell_type": "code",
   "execution_count": 57,
   "id": "c5c4f8f1",
   "metadata": {},
   "outputs": [
    {
     "name": "stdout",
     "output_type": "stream",
     "text": [
      "Enter the number of elements in the array: 5\n",
      "Enter element 0: 25\n",
      "Enter element 1: 47\n",
      "Enter element 2: 42\n",
      "Enter element 3: 56\n",
      "Enter element 4: 32\n",
      "\n",
      "Array with odd integers: [25, 47]\n",
      "Array with even integers: [42, 56, 32]\n"
     ]
    }
   ],
   "source": [
    "# Function to separate odd and even integers\n",
    "def separate_odd_even(input_array):\n",
    "    odd_array = []  # List to store odd numbers\n",
    "    even_array = []  # List to store even numbers\n",
    "\n",
    "    # Loop through each number in the input array\n",
    "    for num in input_array:\n",
    "        # Check if the number is even\n",
    "        if num % 2 == 0:\n",
    "            even_array.append(num)  # Add to the even array\n",
    "        else:\n",
    "            odd_array.append(num)  # Add to the odd array\n",
    "\n",
    "    # Return the separated arrays\n",
    "    return odd_array, even_array\n",
    "\n",
    "# Input the number of elements\n",
    "num_elements = int(input(\"Enter the number of elements in the array: \"))\n",
    "\n",
    "# Input the elements in the array\n",
    "input_array = []\n",
    "for i in range(num_elements):\n",
    "    element = int(input(\"Enter element {}: \".format(i)))\n",
    "    input_array.append(element)\n",
    "\n",
    "# Separate odd and even integers using the function\n",
    "odd_result, even_result = separate_odd_even(input_array)\n",
    "\n",
    "# Display the results\n",
    "print(\"\\nArray with odd integers:\", odd_result)\n",
    "print(\"Array with even integers:\", even_result)\n",
    "\n"
   ]
  },
  {
   "cell_type": "markdown",
   "id": "089d2253",
   "metadata": {},
   "source": [
    "# Question 5\n",
    "\n",
    "Write a function inside(x,y,x1,y1,x2,y2) that returns True or False\n",
    "depending on whether the point (x,y) lies in the rectangle with lower left\n",
    "corner (x1,y1) and upper right corner (x2,y2).\n",
    ">>> inside(1,1,0,0,2,3)\n",
    "True\n",
    ">>> inside(-1,-1,0,0,2,3)\n",
    "False\n"
   ]
  },
  {
   "cell_type": "code",
   "execution_count": 36,
   "id": "21649a56",
   "metadata": {},
   "outputs": [
    {
     "name": "stdout",
     "output_type": "stream",
     "text": [
      "True\n",
      "False\n"
     ]
    }
   ],
   "source": [
    "def inside(x, y, x1, y1, x2, y2):\n",
    "    # Check if (x, y) is inside the rectangle with corners (x1, y1) and (x2, y2)\n",
    "    return x1 <= x <= x2 and y1 <= y <= y2\n",
    "\n",
    "# Test the function with provided examples\n",
    "print(inside(1, 1, 0, 0, 2, 3))   # Output: True\n",
    "print(inside(-1, -1, 0, 0, 2, 3))  # Output: False"
   ]
  },
  {
   "cell_type": "markdown",
   "id": "bcd86477",
   "metadata": {},
   "source": [
    "# 5b\n",
    "\n",
    "b. Use function inside() from part a. to write an expression that tests whether\n",
    "the point (1,1) lies in both of the following rectangles: one with lower left\n",
    "corner (0.3, 0.5) and upper right corner (1.1, 0.7) and the other with lower\n",
    "left corner (0.5, 0.2) and upper right corner (1.1, 2). "
   ]
  },
  {
   "cell_type": "code",
   "execution_count": 38,
   "id": "45a8769c",
   "metadata": {},
   "outputs": [
    {
     "name": "stdout",
     "output_type": "stream",
     "text": [
      "Point (1, 1) in both rectangles: False\n"
     ]
    }
   ],
   "source": [
    "# Using the inside() function to check if (1, 1) is inside both rectangles\n",
    "result_rectangle1 = inside(1, 1, 0.3, 0.5, 1.1, 0.7)\n",
    "result_rectangle2 = inside(1, 1, 0.5, 0.2, 1.1, 2)\n",
    "\n",
    "# Expression to check if (1, 1) is inside both rectangles\n",
    "result_both_rectangles = result_rectangle1 and result_rectangle2\n",
    "\n",
    "# Display the result\n",
    "print(\"Point (1, 1) in both rectangles:\", result_both_rectangles)  # Output: False"
   ]
  },
  {
   "cell_type": "markdown",
   "id": "0f449253",
   "metadata": {},
   "source": [
    "# Question 6\n",
    "\n",
    "You can turn a word into pig-Latin using the following two rules (simplified):\n",
    "• If the word starts with a consonant, move that letter to the end and append\n",
    "'ay'. For example, 'happy' becomes 'appyhay' and 'pencil' becomes 'encilpay'.\n",
    "• If the word starts with a vowel, simply append 'way' to the end of the word.\n",
    "For example, 'enter' becomes 'enterway' and 'other' becomes 'otherway' . For\n",
    "our purposes, there are 5 vowels: a, e, i, o, u (so we count y as a consonant).\n",
    "Write a function pig() that takes a word (i.e., a string) as input and returns its pigLatin form. Your function should still work if the input word contains upper case\n",
    "characters. Your output should always be lower case however.\n",
    ">>> pig('happy')\n",
    "'appyhay'\n",
    ">>> pig('Enter')\n",
    "'enterway"
   ]
  },
  {
   "cell_type": "code",
   "execution_count": 1,
   "id": "2db674a7",
   "metadata": {},
   "outputs": [
    {
     "name": "stdout",
     "output_type": "stream",
     "text": [
      "Enter a word: happy\n",
      "Pig Latin form: appyhay\n"
     ]
    }
   ],
   "source": [
    "def pig(word):\n",
    "    # Convert the word to lowercase to handle uppercase characters\n",
    "    word = word.lower()\n",
    "\n",
    "    # Check if the word starts with a vowel\n",
    "    vowels = ['a', 'e', 'i', 'o', 'u']\n",
    "    if word[0] in vowels:\n",
    "        return word + 'way'\n",
    "    else:\n",
    "        # Move the first consonant to the end and append 'ay'\n",
    "        return word[1:] + word[0] + 'ay'\n",
    "\n",
    "# Example usage:\n",
    "input_word = input(\"Enter a word: \")\n",
    "pig_latin_result = pig(input_word)\n",
    "\n",
    "print(\"Pig Latin form:\", pig_latin_result)\n"
   ]
  },
  {
   "cell_type": "code",
   "execution_count": 2,
   "id": "74c5ed60",
   "metadata": {},
   "outputs": [
    {
     "name": "stdout",
     "output_type": "stream",
     "text": [
      "Enter a word: enter\n",
      "Pig Latin form: enterway\n"
     ]
    }
   ],
   "source": [
    "def pig(word):\n",
    "    # Convert the word to lowercase to handle uppercase characters\n",
    "    word = word.lower()\n",
    "\n",
    "    # Check if the word starts with a vowel\n",
    "    vowels = ['a', 'e', 'i', 'o', 'u']\n",
    "    if word[0] in vowels:\n",
    "        return word + 'way'\n",
    "    else:\n",
    "        # Move the first consonant to the end and append 'ay'\n",
    "        return word[1:] + word[0] + 'ay'\n",
    "\n",
    "# Example usage:\n",
    "input_word = input(\"Enter a word: \")\n",
    "pig_latin_result = pig(input_word)\n",
    "\n",
    "print(\"Pig Latin form:\", pig_latin_result)"
   ]
  },
  {
   "cell_type": "markdown",
   "id": "a42bb86d",
   "metadata": {},
   "source": [
    "# Question 7\n",
    "\n",
    "File bloodtype1.txt records blood-types of patients (A, B, AB, O or OO) at a clinic.\n",
    "Write a function bldcount() that reads the file with name name and reports (i.e.,\n",
    "prints) how many patients there are in each bloodtype.\n",
    ">>> bldcount('bloodtype.txt')\n",
    "There are 10 patients of blood type A.\n",
    "There is one patient of blood type B.\n",
    "There are 10 patients of blood type AB.\n",
    "There are 12 patients of blood type O.\n",
    "There are no patients of blood type OO."
   ]
  },
  {
   "cell_type": "code",
   "execution_count": 72,
   "id": "e7b2677d",
   "metadata": {},
   "outputs": [
    {
     "name": "stdout",
     "output_type": "stream",
     "text": [
      "There are 15 patients of blood type A.\n",
      "There is one patient of blood type B.\n",
      "There are 13 patients of blood type AB.\n",
      "There are 15 patients of blood type O.\n",
      "There are 0 patients of blood type OO.\n"
     ]
    }
   ],
   "source": [
    "def bldcount(blood_types):\n",
    "    blood_type_count = {'A': 0, 'B': 0, 'AB': 0, 'O': 0, 'OO': 0}\n",
    "\n",
    "    try:\n",
    "        # Split the blood types string into a list\n",
    "        blood_types_list = blood_types.split()\n",
    "\n",
    "        # Count the occurrences of each blood type\n",
    "        for blood_type in blood_types_list:\n",
    "            # Check if the blood type is in the dictionary\n",
    "            if blood_type in blood_type_count:\n",
    "                # Increment the count for the blood type\n",
    "                blood_type_count[blood_type] += 1\n",
    "\n",
    "        # Report the counts\n",
    "        for blood_type, count in blood_type_count.items():\n",
    "            # Check if there is one patient or more for each blood type\n",
    "            if count == 1:\n",
    "                print('There is one patient of blood type {}.'.format(blood_type))\n",
    "            else:\n",
    "                print('There are {} patients of blood type {}.'.format(count, blood_type))\n",
    "\n",
    "    except Exception as e:\n",
    "        # Handle possible errors\n",
    "        print('An error occurred: {}'.format(e))\n",
    "\n",
    "bloodtype1 = \"AB AB B O A A AB O AB A O O A A A O O O AB O A A A A A AB AB A AB O AB O A O O O AB O AB AB AB A A O\"\n",
    "bldcount(bloodtype1)"
   ]
  },
  {
   "cell_type": "markdown",
   "id": "91351561",
   "metadata": {},
   "source": [
    "# Question 8\n",
    "\n",
    "Write a function curconv() that takes as input:\n",
    "1. a currency represented using a string (e.g., 'JPY' for the Japanese Yen or\n",
    "'EUR' for the Euro)\n",
    "2. an amount\n",
    "and then converts and returns the amount in US dollars.\n",
    ">>> curconv('EUR', 100)\n",
    "122.96544\n",
    ">>> curconv('JPY', 100)\n",
    "1.241401\n",
    "The currency rates you will need are stored in file currencies.txt:\n",
    "AUD 1.0345157 Australian Dollar\n",
    "CHF 1.0237414 Swiss Franc\n",
    "CNY 0.1550176 Chinese Yuan\n",
    "DKK 0.1651442 Danish Krone\n",
    "EUR 1.2296544 Euro\n",
    "GBP 1.5550989 British Pound\n",
    "HKD 0.1270207 Hong Kong Dollar\n",
    "INR 0.0177643 Indian Rupee\n",
    "JPY 0.01241401 Japanese Yen\n",
    "MXN 0.0751848 Mexican Peso\n",
    "MYR 0.3145411 Malaysian Ringgit\n",
    "NOK 0.1677063 Norwegian Krone\n",
    "NZD 0.8003591 New Zealand Dollar\n",
    "PHP 0.0233234 Philippine Peso\n",
    "SEK 0.148269 Swedish Krona\n",
    "SGD 0.788871 Singapore Dollar\n",
    "THB 0.0313789 Thai Baht\n"
   ]
  },
  {
   "cell_type": "code",
   "execution_count": 6,
   "id": "597437d4",
   "metadata": {},
   "outputs": [
    {
     "name": "stdout",
     "output_type": "stream",
     "text": [
      "122.96544\n",
      "1.241401\n"
     ]
    }
   ],
   "source": [
    "def curconv(currency_code, amount):\n",
    "    # Define conversion rates for different currencies\n",
    "    conversion_rates = {\n",
    "       \n",
    "        'EUR': 1.2296544, #Euro\n",
    "        'JPY': 0.01241401, #Japanese Yen\n",
    "        \n",
    "    }\n",
    "\n",
    "    if currency_code in conversion_rates:\n",
    "        # Convert the amount to USD using the conversion rate\n",
    "        usd_amount = amount * conversion_rates[currency_code]\n",
    "        return usd_amount\n",
    "    else:\n",
    "        return \"Currency code not found in the conversion rates.\"\n",
    "\n",
    "result_eur = curconv('EUR', 100)\n",
    "result_jpy = curconv('JPY', 100)\n",
    "\n",
    "print(result_eur)  # Output: 122.96544\n",
    "print(result_jpy)  # Output: 1.241401"
   ]
  },
  {
   "cell_type": "markdown",
   "id": "21e76552",
   "metadata": {},
   "source": [
    "# Question 9 \n",
    "\n",
    "Each of the following will cause an exception (an error). Identify what type of\n",
    "exception each will cause.\n",
    "Trying to add incompatible variables, as in\n",
    "adding 6 + ‘a’\n",
    "Referring to the 12th item of a list that has only 10\n",
    "items\n",
    "Using a value that is out of range for a function’s\n",
    "input, such as calling math.sqrt(-1.0)\n",
    "Using an undeclared variable, such as print(x)\n",
    "when x has not been defined\n",
    "Trying to open a file that does not exist, such as\n",
    "mistyping the file name or looking in the wrong\n",
    "directory"
   ]
  },
  {
   "cell_type": "code",
   "execution_count": 16,
   "id": "9e2ff1f7",
   "metadata": {},
   "outputs": [
    {
     "name": "stdout",
     "output_type": "stream",
     "text": [
      "unsupported operand type(s) for +: 'int' and 'str'\n"
     ]
    }
   ],
   "source": [
    "try:\n",
    "    x = 6 + 'a'\n",
    "    print(x)\n",
    "except Exception as error:\n",
    "    print(error)"
   ]
  },
  {
   "cell_type": "code",
   "execution_count": 65,
   "id": "58c6f441",
   "metadata": {},
   "outputs": [
    {
     "name": "stdout",
     "output_type": "stream",
     "text": [
      "list index out of range\n"
     ]
    }
   ],
   "source": [
    "try:\n",
    "    lst_items = [1, 2, 3, 4, 5, 6, 7, 8, 9, 10]\n",
    "    print(lst_items[12])\n",
    "except Exception as error:\n",
    "    print(error)"
   ]
  },
  {
   "cell_type": "code",
   "execution_count": 22,
   "id": "a906a514",
   "metadata": {},
   "outputs": [
    {
     "name": "stdout",
     "output_type": "stream",
     "text": [
      "math domain error\n"
     ]
    }
   ],
   "source": [
    "import math \n",
    "try: \n",
    "    area = math.sqrt(-1.0)\n",
    "    print(area)\n",
    "except Exception as error:\n",
    "    print(error) "
   ]
  },
  {
   "cell_type": "code",
   "execution_count": 25,
   "id": "3955aa3f",
   "metadata": {},
   "outputs": [
    {
     "name": "stdout",
     "output_type": "stream",
     "text": [
      "name 'x' is not defined\n"
     ]
    }
   ],
   "source": [
    "try: \n",
    "    print(x)\n",
    "except Exception as error:\n",
    "    print(error)"
   ]
  },
  {
   "cell_type": "code",
   "execution_count": 62,
   "id": "93e9f0f6",
   "metadata": {},
   "outputs": [
    {
     "name": "stdout",
     "output_type": "stream",
     "text": [
      "[Errno 2] No such file or directory: 'BDATAssignment.txt'\n"
     ]
    }
   ],
   "source": [
    "try:\n",
    "    file = open(\"BDATAssignment.txt\")\n",
    "    file.close()\n",
    "except Exception as error:\n",
    "    print(error)"
   ]
  },
  {
   "cell_type": "markdown",
   "id": "a8bc8edb",
   "metadata": {},
   "source": [
    "# Question 10\n",
    "\n",
    "Encryption is the process of hiding the meaning of a text by substituting letters in the\n",
    "message with other letters, according to some system. If the process is successful, no\n",
    "one but the intended recipient can understand the encrypted message. Cryptanalysis\n",
    "refers to attempts to undo the encryption, even if some details of the encryption are\n",
    "unknown (for example, if an encrypted message has been intercepted). The first step\n",
    "of cryptanalysis is often to build up a table of letter frequencies in the encrypted text.\n",
    "Assume that the string letters is already defined as\n",
    "'abcdefghijklmnopqrstuvwxyz'. Write a function called frequencies()\n",
    "that takes a string as its only parameter, and returns a list of integers, showing the\n",
    "number of times each character appears in the text. Your function may ignore any\n",
    "characters that are not in letters.\n",
    ">>> frequencies('The quick red fox got bored and went home.')\n",
    "[1, 1, 1, 3, 5, 1, 1, 2, 1, 0, 1, 0, 1, 2, 4, 0, 1, 2, 0, 2,\n",
    "1, 0, 1, 1, 0, 0]\n",
    ">>> frequencies('apple')"
   ]
  },
  {
   "cell_type": "code",
   "execution_count": 35,
   "id": "8c16ca88",
   "metadata": {},
   "outputs": [
    {
     "name": "stdout",
     "output_type": "stream",
     "text": [
      "frequencies('The quick red fox got bored and went home.')\n",
      "[1, 1, 1, 3, 5, 1, 1, 2, 1, 0, 1, 0, 1, 2, 4, 0, 1, 2, 0, 2, 1, 0, 1, 1, 0, 0]\n",
      "frequencies('apple')\n",
      "[1, 0, 0, 0, 1, 0, 0, 0, 0, 0, 0, 1, 0, 0, 0, 2, 0, 0, 0, 0, 0, 0, 0, 0, 0, 0]\n"
     ]
    }
   ],
   "source": [
    "def frequencies(input):\n",
    "    letters = 'abcdefghijklmnopqrstuvwxyz'\n",
    "    counters = []\n",
    "    \n",
    "    for letter in letters:\n",
    "        count=input.count(letter)\n",
    "        counters.append(count)\n",
    "    print(counters)\n",
    "\n",
    "print(\"frequencies('The quick red fox got bored and went home.')\")\n",
    "frequencies(\"The quick red fox got bored and went home.\")\n",
    "\n",
    "print(\"frequencies('apple')\")\n",
    "frequencies(\"apple\")\n",
    "    "
   ]
  }
 ],
 "metadata": {
  "kernelspec": {
   "display_name": "Python 3 (ipykernel)",
   "language": "python",
   "name": "python3"
  },
  "language_info": {
   "codemirror_mode": {
    "name": "ipython",
    "version": 3
   },
   "file_extension": ".py",
   "mimetype": "text/x-python",
   "name": "python",
   "nbconvert_exporter": "python",
   "pygments_lexer": "ipython3",
   "version": "3.11.5"
  }
 },
 "nbformat": 4,
 "nbformat_minor": 5
}
